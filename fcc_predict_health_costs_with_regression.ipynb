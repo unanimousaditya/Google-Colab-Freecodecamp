{
  "cells": [
    {
      "cell_type": "code",
      "execution_count": null,
      "metadata": {
        "id": "1rRo8oNqZ-Rj"
      },
      "outputs": [],
      "source": [
        "# Import libraries. You may or may not use all of these.\n",
        "!pip install -q git+https://github.com/tensorflow/docs\n",
        "import matplotlib.pyplot as plt\n",
        "import numpy as np\n",
        "import pandas as pd\n",
        "\n",
        "try:\n",
        "  # %tensorflow_version only exists in Colab.\n",
        "  %tensorflow_version 2.x\n",
        "except Exception:\n",
        "  pass\n",
        "import tensorflow as tf\n",
        "\n",
        "from tensorflow import keras\n",
        "from tensorflow.keras import layers\n",
        "\n",
        "import tensorflow_docs as tfdocs\n",
        "import tensorflow_docs.plots\n",
        "import tensorflow_docs.modeling"
      ]
    },
    {
      "cell_type": "code",
      "execution_count": null,
      "metadata": {
        "id": "CiX2FI4gZtTt"
      },
      "outputs": [],
      "source": [
        "# Import data\n",
        "!wget https://cdn.freecodecamp.org/project-data/health-costs/insurance.csv\n",
        "dataset = pd.read_csv('insurance.csv')\n",
        "dataset.tail()"
      ]
    },
    {
      "cell_type": "code",
      "execution_count": null,
      "metadata": {
        "id": "LcopvQh3X-kX"
      },
      "outputs": [],
      "source": [
        "# Examine the data\n",
        "print(dataset.shape)\n",
        "print(dataset.describe())\n",
        "print(dataset.dtypes)"
      ]
    },
    {
      "cell_type": "code",
      "source": [
        "# Check for missing values\n",
        "print(dataset.isna().sum())"
      ],
      "metadata": {
        "id": "LhPfhnYPXRky"
      },
      "execution_count": null,
      "outputs": []
    },
    {
      "cell_type": "code",
      "source": [
        "# Convert categorical data to numbers\n",
        "# For 'sex' column\n",
        "dataset['sex'] = dataset['sex'].map({'female': 0, 'male': 1})\n"
      ],
      "metadata": {
        "id": "JKr2PayAXTo5"
      },
      "execution_count": null,
      "outputs": []
    },
    {
      "cell_type": "code",
      "source": [
        "# For 'smoker' column\n",
        "dataset['smoker'] = dataset['smoker'].map({'no': 0, 'yes': 1})"
      ],
      "metadata": {
        "id": "KNYYdtedXV6q"
      },
      "execution_count": null,
      "outputs": []
    },
    {
      "cell_type": "code",
      "source": [
        "# For 'region' column - using one-hot encoding\n",
        "region_one_hot = pd.get_dummies(dataset['region'], prefix='region')\n",
        "dataset = pd.concat([dataset, region_one_hot], axis=1)\n",
        "dataset.drop('region', axis=1, inplace=True)\n",
        "\n",
        "print(dataset.head())"
      ],
      "metadata": {
        "id": "kN935laNXYF6"
      },
      "execution_count": null,
      "outputs": []
    },
    {
      "cell_type": "code",
      "source": [
        "# Split the data into train and test sets\n",
        "train_dataset = dataset.sample(frac=0.8, random_state=0)\n",
        "test_dataset = dataset.drop(train_dataset.index)\n"
      ],
      "metadata": {
        "id": "XGYVZaBKXZ8i"
      },
      "execution_count": null,
      "outputs": []
    },
    {
      "cell_type": "code",
      "source": [
        "# Pop off the expenses column to create labels\n",
        "train_labels = train_dataset.pop('expenses')\n",
        "test_labels = test_dataset.pop('expenses')\n",
        "\n",
        "print(f\"Training set size: {train_dataset.shape}\")\n",
        "print(f\"Test set size: {test_dataset.shape}\")\n"
      ],
      "metadata": {
        "id": "6Nfuen3CXerC"
      },
      "execution_count": null,
      "outputs": []
    },
    {
      "cell_type": "code",
      "source": [
        "# Normalize the input features\n",
        "normalizer = preprocessing.Normalization()\n",
        "normalizer.adapt(np.array(train_dataset))"
      ],
      "metadata": {
        "id": "ZV3xHvKHXgib"
      },
      "execution_count": null,
      "outputs": []
    },
    {
      "cell_type": "code",
      "source": [
        "# Build the model\n",
        "def build_and_compile_model():\n",
        "    model = keras.Sequential([\n",
        "        normalizer,\n",
        "        layers.Dense(64, activation='relu'),\n",
        "        layers.Dense(64, activation='relu'),\n",
        "        layers.Dense(1)\n",
        "    ])\n",
        "\n",
        "    model.compile(loss='mean_absolute_error',\n",
        "                 optimizer=tf.keras.optimizers.Adam(0.001),\n",
        "                 metrics=['mean_absolute_error'])\n",
        "    return model"
      ],
      "metadata": {
        "id": "k2EmNGiJXlgT"
      },
      "execution_count": null,
      "outputs": []
    },
    {
      "cell_type": "code",
      "source": [
        "# Create and compile the model\n",
        "model = build_and_compile_model()\n",
        "model.summary()"
      ],
      "metadata": {
        "id": "ELbbF3GJXoGL"
      },
      "execution_count": null,
      "outputs": []
    },
    {
      "cell_type": "code",
      "source": [
        "# Train the model\n",
        "history = model.fit(\n",
        "    train_dataset,\n",
        "    train_labels,\n",
        "    validation_split=0.2,\n",
        "    verbose=1,\n",
        "    epochs=100,\n",
        "    callbacks=[keras.callbacks.EarlyStopping(monitor='val_loss', patience=10)]\n",
        ")"
      ],
      "metadata": {
        "id": "AgSI36BxXqR0"
      },
      "execution_count": null,
      "outputs": []
    },
    {
      "cell_type": "code",
      "source": [
        "# Visualize the training progress\n",
        "def plot_loss(history):\n",
        "    plt.figure(figsize=(10, 6))\n",
        "    plt.plot(history.history['mean_absolute_error'], label='MAE')\n",
        "    plt.plot(history.history['val_mean_absolute_error'], label='Val MAE')\n",
        "    plt.xlabel('Epoch')\n",
        "    plt.ylabel('Mean Absolute Error ($)')\n",
        "    plt.title('Model Training Performance')\n",
        "    plt.legend()\n",
        "    plt.grid(True)\n",
        "    plt.show()\n",
        "\n",
        "plot_loss(history)"
      ],
      "metadata": {
        "id": "baxTAM0KXsfc"
      },
      "execution_count": null,
      "outputs": []
    },
    {
      "cell_type": "code",
      "source": [
        "# Evaluate the model on the test data\n",
        "test_results = model.evaluate(test_dataset, test_labels, verbose=0)\n",
        "print(f\"Test MAE: ${test_results[1]:.2f}\")"
      ],
      "metadata": {
        "id": "WNH_eop-Xuvk"
      },
      "execution_count": null,
      "outputs": []
    },
    {
      "cell_type": "code",
      "source": [
        "# Predict on test data\n",
        "test_predictions = model.predict(test_dataset).flatten()"
      ],
      "metadata": {
        "id": "yojyhmTWXxHs"
      },
      "execution_count": null,
      "outputs": []
    },
    {
      "cell_type": "code",
      "source": [
        "# Plot predictions vs actual\n",
        "plt.figure(figsize=(10, 8))\n",
        "plt.scatter(test_labels, test_predictions)\n",
        "plt.xlabel('True Values ($)')\n",
        "plt.ylabel('Predictions ($)')\n",
        "plt.title('Predictions vs Actual')\n",
        "plt.axis('equal')\n",
        "plt.axis('square')\n",
        "plt.xlim([0, plt.xlim()[1]])\n",
        "plt.ylim([0, plt.ylim()[1]])\n",
        "plt.plot([-100, plt.xlim()[1]], [-100, plt.ylim()[1]])\n",
        "plt.show()"
      ],
      "metadata": {
        "id": "FNqc3WNMXzgl"
      },
      "execution_count": null,
      "outputs": []
    },
    {
      "cell_type": "code",
      "source": [
        "# Plot prediction error\n",
        "error = test_predictions - test_labels\n",
        "plt.figure(figsize=(10, 6))\n",
        "plt.hist(error, bins=25)\n",
        "plt.xlabel('Prediction Error ($)')\n",
        "plt.ylabel('Count')\n",
        "plt.title('Prediction Error Distribution')\n",
        "plt.show()"
      ],
      "metadata": {
        "id": "Eotdj59TX1mN"
      },
      "execution_count": null,
      "outputs": []
    },
    {
      "cell_type": "code",
      "source": [
        "# Check if our model meets the requirement (MAE < 3500)\n",
        "if test_results[1] < 3500:\n",
        "    print(f\"Success! MAE is ${test_results[1]:.2f}, which is under the $3500 threshold.\")\n",
        "else:\n",
        "    print(f\"Need improvement. MAE is ${test_results[1]:.2f}, which is above the $3500 threshold.\")"
      ],
      "metadata": {
        "id": "JmOI5NCrX3w9"
      },
      "execution_count": null,
      "outputs": []
    },
    {
      "cell_type": "code",
      "execution_count": null,
      "metadata": {
        "id": "Xe7RXH3N3CWU"
      },
      "outputs": [],
      "source": [
        "# RUN THIS CELL TO TEST YOUR MODEL. DO NOT MODIFY CONTENTS.\n",
        "# Test model by checking how well the model generalizes using the test set.\n",
        "loss, mae, mse = model.evaluate(test_dataset, test_labels, verbose=2)\n",
        "\n",
        "print(\"Testing set Mean Abs Error: {:5.2f} expenses\".format(mae))\n",
        "\n",
        "if mae < 3500:\n",
        "  print(\"You passed the challenge. Great job!\")\n",
        "else:\n",
        "  print(\"The Mean Abs Error must be less than 3500. Keep trying.\")\n",
        "\n",
        "# Plot predictions.\n",
        "test_predictions = model.predict(test_dataset).flatten()\n",
        "\n",
        "a = plt.axes(aspect='equal')\n",
        "plt.scatter(test_labels, test_predictions)\n",
        "plt.xlabel('True values (expenses)')\n",
        "plt.ylabel('Predictions (expenses)')\n",
        "lims = [0, 50000]\n",
        "plt.xlim(lims)\n",
        "plt.ylim(lims)\n",
        "_ = plt.plot(lims,lims)\n"
      ]
    },
    {
      "cell_type": "code",
      "source": [
        "# Test against the test dataset\n",
        "error = model.evaluate(test_dataset, test_labels, verbose=0)\n",
        "print(f\"MAE: ${error[1]:.2f}\")"
      ],
      "metadata": {
        "id": "VrqxFAmqX-tW"
      },
      "execution_count": null,
      "outputs": []
    },
    {
      "cell_type": "code",
      "source": [
        "# Make predictions with the test dataset\n",
        "test_predictions = model.predict(test_dataset).flatten()"
      ],
      "metadata": {
        "id": "qHXAGgkpYAne"
      },
      "execution_count": null,
      "outputs": []
    },
    {
      "cell_type": "code",
      "source": [
        "# Plot predictions against actual values\n",
        "a = plt.axes(aspect='equal')\n",
        "plt.scatter(test_labels, test_predictions)\n",
        "plt.xlabel('True values (expenses)')\n",
        "plt.ylabel('Predictions (expenses)')\n",
        "lims = [0, 50000]\n",
        "plt.xlim(lims)\n",
        "plt.ylim(lims)\n",
        "_ = plt.plot(lims, lims)"
      ],
      "metadata": {
        "id": "Kz6uFYVqYCpe"
      },
      "execution_count": null,
      "outputs": []
    }
  ],
  "metadata": {
    "colab": {
      "name": "fcc_predict_health_costs_with_regression.ipynb",
      "private_outputs": true,
      "provenance": [],
      "toc_visible": true
    },
    "kernelspec": {
      "display_name": "Python 3",
      "name": "python3"
    }
  },
  "nbformat": 4,
  "nbformat_minor": 0
}