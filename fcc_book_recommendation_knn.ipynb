{
  "cells": [
    {
      "cell_type": "code",
      "execution_count": null,
      "metadata": {
        "id": "Y1onB6kUvo4Z"
      },
      "outputs": [],
      "source": [
        "# Import required libraries\n",
        "import numpy as np\n",
        "import pandas as pd\n",
        "from sklearn.neighbors import NearestNeighbors\n",
        "import matplotlib.pyplot as plt\n"
      ]
    },
    {
      "cell_type": "code",
      "execution_count": null,
      "metadata": {
        "id": "iAQGqqO_vo4d"
      },
      "outputs": [],
      "source": [
        "# Load the dataset\n",
        "books = pd.read_csv('/content/BX-Books.csv', sep=';', encoding='latin-1', error_bad_lines=False)\n",
        "ratings = pd.read_csv('/content/BX-Book-Ratings.csv', sep=';', encoding='latin-1', error_bad_lines=False)\n",
        "users = pd.read_csv('/content/BX-Users.csv', sep=';', encoding='latin-1', error_bad_lines=False)"
      ]
    },
    {
      "cell_type": "code",
      "execution_count": null,
      "metadata": {
        "id": "NClILWOiEd6Q"
      },
      "outputs": [],
      "source": [
        "# Fix column names and examine dataframes\n",
        "books.columns = ['ISBN', 'Book-Title', 'Book-Author', 'Year-Of-Publication', 'Publisher', 'Image-URL-S', 'Image-URL-M', 'Image-URL-L']\n",
        "ratings.columns = ['User-ID', 'ISBN', 'Book-Rating']\n",
        "users.columns = ['User-ID', 'Location', 'Age']"
      ]
    },
    {
      "cell_type": "code",
      "execution_count": null,
      "metadata": {
        "id": "xAcXjkCFCh0A"
      },
      "outputs": [],
      "source": [
        "# Display basic information about the datasets\n",
        "print(f\"Books dataset shape: {books.shape}\")\n",
        "print(f\"Ratings dataset shape: {ratings.shape}\")\n",
        "print(f\"Users dataset shape: {users.shape}\")"
      ]
    },
    {
      "cell_type": "code",
      "execution_count": null,
      "metadata": {
        "id": "f5ZUd-L1SQz7"
      },
      "outputs": [],
      "source": [
        "# Filter users with at least 200 ratings\n",
        "user_counts = ratings['User-ID'].value_counts()\n",
        "qualified_users = user_counts[user_counts >= 200].index.tolist()\n",
        "filtered_ratings_by_users = ratings[ratings['User-ID'].isin(qualified_users)]"
      ]
    },
    {
      "cell_type": "code",
      "source": [
        "# Filter books with at least 100 ratings\n",
        "book_counts = filtered_ratings_by_users['ISBN'].value_counts()\n",
        "qualified_books = book_counts[book_counts >= 100].index.tolist()\n",
        "filtered_ratings = filtered_ratings_by_users[filtered_ratings_by_users['ISBN'].isin(qualified_books)]"
      ],
      "metadata": {
        "id": "7ekn1vhsWH5T"
      },
      "execution_count": null,
      "outputs": []
    },
    {
      "cell_type": "code",
      "source": [
        "# Display information about the filtered dataset\n",
        "print(f\"Filtered ratings dataset shape: {filtered_ratings.shape}\")\n",
        "print(f\"Number of qualified users: {len(qualified_users)}\")\n",
        "print(f\"Number of qualified books: {len(qualified_books)}\")"
      ],
      "metadata": {
        "id": "Z9BvPL0oWKgK"
      },
      "execution_count": null,
      "outputs": []
    },
    {
      "cell_type": "code",
      "source": [
        "# Merge with the books dataset to get titles\n",
        "filtered_ratings_with_titles = pd.merge(filtered_ratings, books[['ISBN', 'Book-Title']], on='ISBN')"
      ],
      "metadata": {
        "id": "hbyLUQfXWOcK"
      },
      "execution_count": null,
      "outputs": []
    },
    {
      "cell_type": "code",
      "source": [
        "# Create a pivot table: rows are books, columns are users\n",
        "book_user_matrix = filtered_ratings_with_titles.pivot_table(\n",
        "    index='Book-Title',\n",
        "    columns='User-ID',\n",
        "    values='Book-Rating',\n",
        "    fill_value=0\n",
        ")"
      ],
      "metadata": {
        "id": "00tDFpFYWQii"
      },
      "execution_count": null,
      "outputs": []
    },
    {
      "cell_type": "code",
      "source": [
        "# Display the shape of the book-user matrix\n",
        "print(f\"Book-user matrix shape: {book_user_matrix.shape}\")"
      ],
      "metadata": {
        "id": "cA_V6eyRWTFD"
      },
      "execution_count": null,
      "outputs": []
    },
    {
      "cell_type": "code",
      "source": [
        "# Convert the matrix to a scipy sparse matrix\n",
        "book_user_matrix_sparse = book_user_matrix.astype(np.float32)"
      ],
      "metadata": {
        "id": "9w-2mguWWVlL"
      },
      "execution_count": null,
      "outputs": []
    },
    {
      "cell_type": "code",
      "source": [
        "# Train KNN model\n",
        "model = NearestNeighbors(n_neighbors=6, algorithm='brute', metric='cosine')\n",
        "model.fit(book_user_matrix_sparse)"
      ],
      "metadata": {
        "id": "XrsqxmUsWXsU"
      },
      "execution_count": null,
      "outputs": []
    },
    {
      "cell_type": "code",
      "source": [
        "# Optional: Visualize the ratings distribution\n",
        "plt.figure(figsize=(10, 6))\n",
        "plt.hist(ratings['Book-Rating'], bins=10, edgecolor='black')\n",
        "plt.title('Distribution of Book Ratings')\n",
        "plt.xlabel('Rating')\n",
        "plt.ylabel('Count')\n",
        "plt.show()"
      ],
      "metadata": {
        "id": "j6t8W0vrWbDL"
      },
      "execution_count": null,
      "outputs": []
    },
    {
      "cell_type": "code",
      "source": [
        "# Create a dictionary to map book titles to their indices in the matrix\n",
        "book_to_index = {title: i for i, title in enumerate(book_user_matrix.index)}\n",
        "\n",
        "def get_recommends(book_title):\n",
        "    \"\"\"\n",
        "    Get 5 book recommendations based on similarity to the input book.\n",
        "\n",
        "    Args:\n",
        "        book_title: The title of the book to find recommendations for\n",
        "\n",
        "    Returns:\n",
        "        A list containing the input book title and a list of 5 recommendations with their distances\n",
        "    \"\"\""
      ],
      "metadata": {
        "id": "64vdlggPWc7z"
      },
      "execution_count": null,
      "outputs": []
    },
    {
      "cell_type": "code",
      "source": [
        "# Check if the book title exists in our dataset\n",
        "    if book_title not in book_to_index:\n",
        "        print(f\"Book '{book_title}' not found in the dataset.\")\n",
        "        return None"
      ],
      "metadata": {
        "id": "V009FKioWk7k"
      },
      "execution_count": null,
      "outputs": []
    },
    {
      "cell_type": "code",
      "source": [
        " # Get the index of the book in our matrix\n",
        "    book_idx = book_to_index[book_title]"
      ],
      "metadata": {
        "id": "Ui7Fe8MoWfJE"
      },
      "execution_count": null,
      "outputs": []
    },
    {
      "cell_type": "code",
      "source": [
        " # Get the book's feature vector\n",
        "    book_features = book_user_matrix_sparse.iloc[book_idx].values.reshape(1, -1)"
      ],
      "metadata": {
        "id": "_ZUkR7nCWpEd"
      },
      "execution_count": null,
      "outputs": []
    },
    {
      "cell_type": "code",
      "source": [
        "# Find 6 nearest neighbors (including the book itself)\n",
        "    distances, indices = model.kneighbors(book_features, n_neighbors=6)"
      ],
      "metadata": {
        "id": "AlvoH2cPWsGF"
      },
      "execution_count": null,
      "outputs": []
    },
    {
      "cell_type": "code",
      "source": [
        "# Get the titles of the 5 most similar books (excluding the input book)\n",
        "    similar_books = []\n",
        "    for i in range(1, 6):  # Start from 1 to exclude the book itself\n",
        "        idx = indices[0][i]\n",
        "        title = book_user_matrix.index[idx]\n",
        "        distance = distances[0][i]\n",
        "        similar_books.append([title, float(distance)])"
      ],
      "metadata": {
        "id": "ymmy1xw3Wso9"
      },
      "execution_count": null,
      "outputs": []
    },
    {
      "cell_type": "code",
      "source": [
        "# Format the result as required\n",
        "    result = [book_title, similar_books]\n",
        "\n",
        "    return result\n"
      ],
      "metadata": {
        "id": "pM1o_pPgWuo-"
      },
      "execution_count": null,
      "outputs": []
    },
    {
      "cell_type": "code",
      "source": [
        "# Example usage (for testing)\n",
        "recommendations = get_recommends(\"The Queen of the Damned (Vampire Chronicles (Paperback))\")\n",
        "print(recommendations)"
      ],
      "metadata": {
        "id": "6sjzXzpsWwnt"
      },
      "execution_count": null,
      "outputs": []
    },
    {
      "cell_type": "code",
      "execution_count": null,
      "metadata": {
        "id": "jd2SLCh8oxMh"
      },
      "outputs": [],
      "source": [
        "books = get_recommends(\"Where the Heart Is (Oprah's Book Club (Paperback))\")\n",
        "print(books)\n",
        "\n",
        "def test_book_recommendation():\n",
        "  test_pass = True\n",
        "  recommends = get_recommends(\"Where the Heart Is (Oprah's Book Club (Paperback))\")\n",
        "  if recommends[0] != \"Where the Heart Is (Oprah's Book Club (Paperback))\":\n",
        "    test_pass = False\n",
        "  recommended_books = [\"I'll Be Seeing You\", 'The Weight of Water', 'The Surgeon', 'I Know This Much Is True']\n",
        "  recommended_books_dist = [0.8, 0.77, 0.77, 0.77]\n",
        "  for i in range(2):\n",
        "    if recommends[1][i][0] not in recommended_books:\n",
        "      test_pass = False\n",
        "    if abs(recommends[1][i][1] - recommended_books_dist[i]) >= 0.05:\n",
        "      test_pass = False\n",
        "  if test_pass:\n",
        "    print(\"You passed the challenge! 🎉🎉🎉🎉🎉\")\n",
        "  else:\n",
        "    print(\"You haven't passed yet. Keep trying!\")\n",
        "\n",
        "test_book_recommendation()"
      ]
    }
  ],
  "metadata": {
    "colab": {
      "name": "fcc_book_recommendation_knn.ipynb",
      "provenance": []
    },
    "kernelspec": {
      "display_name": "Python 3",
      "language": "python",
      "name": "python3"
    },
    "language_info": {
      "codemirror_mode": {
        "name": "ipython",
        "version": 3
      },
      "file_extension": ".py",
      "mimetype": "text/x-python",
      "name": "python",
      "nbconvert_exporter": "python",
      "pygments_lexer": "ipython3",
      "version": "3.6.5"
    }
  },
  "nbformat": 4,
  "nbformat_minor": 0
}